{
 "cells": [
  {
   "cell_type": "markdown",
   "metadata": {},
   "source": [
    "**Problem 1**\n",
    "\n",
    "1. Solve the following ODE using a first-order Forward Euler approximation. Write out the matrix form of the solution. Find the eigenvalues of the matrix. What do you notice about the eigenvalues? Try varying values of $\\Delta t$. When does the solution become unstable? Why?\n",
    "\n",
    "$$\\frac{dy}{dt} = -30y, y(0) = 1 $$\n",
    "\n",
    "2. Repeat 1. using a second-, third-, fourth-, fifth-, and sixth- order approximation for the derivative. What do you notice about the behavior of higher order approximations as you vary $\\Delta t$? Do they become unstable?\n",
    "\n",
    "3. Plot the relative accuracy of y(0.3) for each case in 1 and 2 as a function of $\\Delta t$, as well as the time of execution as a function of $\\Delta t$. At what point does using a higher order approximation lose its value, in terms of both accuracy and computational cost?"
   ]
  },
  {
   "cell_type": "markdown",
   "metadata": {},
   "source": [
    "#### Problem 2 (Morbidelli 4.25, modified)\n",
    "\n",
    "Repeat example 2 of section 4.15 for the case of finite external mass transfer resistance at the pellet surface. The BC at r=R is then replaced by\n",
    "\n",
    "$$D \\frac{dC}{dr} = k_g(C_f - C), r=R $$\n",
    "\n",
    "where $C_f$ is the reactant concentration in the bulk fluid and $k_g$ is the mass transfer coefficient. In making the problem dimensionless, an additional dimensionless parameter called the Biot number, $Bi = k_gR/D$, arises. Also report asymptotic values of the effectiveness factor, $\\eta$, for small and large values of the Thiele modulus, $\\Phi$.\n",
    "\n",
    "**Repeat this problem using numerical methods. Similarly, plot profiles of the dimensionless concentration with varying levels of Bi, $\\Phi$, and $u_f$. Verify that you got similar results to the series solution**"
   ]
  },
  {
   "cell_type": "markdown",
   "metadata": {},
   "source": [
    "#### Problem 3\n",
    "\n",
    "Using an explicit numerical technique (e.g. forward Euler) find the solution to the heat equation with the following boundary conditions:\n",
    "\n",
    "$$\\frac{\\partial u}{\\partial t} = \\alpha \\frac{\\partial^2 u}{\\partial x^2}, u(r, 0) = 1, u(0, t) = 0, u(1, t) = 1 $$\n",
    "\n",
    "(a) Check the von Neumann stability by plotting solutions with the same values of $\\alpha$, but different values of r (e.g. change the time and spatial discretization) and plot the solutions. Check at least three values: below, equal to, and above the von Neumann stability limit.\n",
    "\n",
    "(b) Try stable solutions while varying alpha with at least three different values and plot the solutions. Based on these findings, what insights do you get about the von Neumann stability? When do explicit methods fail?\n",
    "\n",
    "(c) Try at least four different forcing functions (e.g. f = c, f = f(t), f = f(r), f = f(r,t)) and plot the solutions. Using the insight found in part (b), find a forcing function that makes the explicit method unstable.\n",
    "\n",
    "(d) Write a piecewise non-differentiable function f(t) or f(r) to use as a forcing function for the heat equation. Implement using forward Euler. Did it work? Why or why not? Try the same with the delta function, or an approximation to it.\n",
    "\n",
    "(e) Find the solution to the 1D heat equation in cylindrical coordinates with the same boundary conditions. Try three different values of r (as in part a). Does the same von Neumann stability threshold hold for cylindrical coordinates?\n",
    "\n",
    "(f) Use an explicit technique (e.g. backward Euler) to find a solution to the heat equation with any forcing function. Test out a minimum of three r values to verify that the solution is stable regardless of the r value."
   ]
  }
 ],
 "metadata": {
  "kernelspec": {
   "display_name": "Python 3",
   "language": "python",
   "name": "python3"
  },
  "language_info": {
   "codemirror_mode": {
    "name": "ipython",
    "version": 3
   },
   "file_extension": ".py",
   "mimetype": "text/x-python",
   "name": "python",
   "nbconvert_exporter": "python",
   "pygments_lexer": "ipython3",
   "version": "3.7.2"
  }
 },
 "nbformat": 4,
 "nbformat_minor": 2
}
